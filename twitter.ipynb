{
 "cells": [
  {
   "cell_type": "markdown",
   "metadata": {},
   "source": [
    "# Import required things"
   ]
  },
  {
   "cell_type": "code",
   "execution_count": 1,
   "metadata": {},
   "outputs": [],
   "source": [
    "from selenium import webdriver\n",
    "from selenium.webdriver.common.by import By\n",
    "from selenium.webdriver.chrome.service import Service\n",
    "from selenium.webdriver.common.keys import Keys\n",
    "from webdriver_manager.chrome import ChromeDriverManager\n",
    "import csv, time"
   ]
  },
  {
   "cell_type": "markdown",
   "metadata": {},
   "source": [
    "# open Browser"
   ]
  },
  {
   "cell_type": "code",
   "execution_count": 2,
   "metadata": {},
   "outputs": [],
   "source": [
    "srvc = Service()\n",
    "driver = webdriver.Chrome(service=srvc)"
   ]
  },
  {
   "cell_type": "markdown",
   "metadata": {},
   "source": [
    "# open website"
   ]
  },
  {
   "cell_type": "code",
   "execution_count": 3,
   "metadata": {},
   "outputs": [],
   "source": [
    "webUrl = 'https://twitter.com/'\n",
    "driver.get(webUrl)"
   ]
  },
  {
   "cell_type": "markdown",
   "metadata": {},
   "source": [
    "# Sign In Process"
   ]
  },
  {
   "cell_type": "code",
   "execution_count": 4,
   "metadata": {},
   "outputs": [],
   "source": [
    "try:\n",
    "    signInxpath = '//span[text()=\"Sign in\"]'\n",
    "    element = driver.find_element(By.XPATH,signInxpath)\n",
    "    time.sleep(1)\n",
    "except: None\n",
    "try:\n",
    "    UserName = 'pass'\n",
    "    search_bar = driver.find_element(By.XPATH, '//input[@autocomplete=\"username\"]')\n",
    "    search_bar.clear()\n",
    "    search_bar.send_keys(UserName)\n",
    "    time.sleep(6)\n",
    "except: pass\n",
    "try:\n",
    "    UserPassword = 'pass'\n",
    "    search_bar = driver.find_element(By.XPATH, '//input[@autocomplete=\"current-password\"]')\n",
    "    time.sleep(6)\n",
    "except: pass"
   ]
  },
  {
   "cell_type": "markdown",
   "metadata": {},
   "source": [
    "# Main Process"
   ]
  },
  {
   "cell_type": "code",
   "execution_count": 322,
   "metadata": {},
   "outputs": [
    {
     "name": "stdout",
     "output_type": "stream",
     "text": [
      "[Info] Getting Post Data: [['https://twitter.com/Godsfavoursmith/status/1621797338321752064', '2023-02-04T09:06:31.000Z']]\n"
     ]
    }
   ],
   "source": [
    "endpoint = int(input('Enter a number: '))\n",
    "try:\n",
    "    with open(file=\"#Stable Coin Market.csv\", mode='r') as file:\n",
    "        readData = csv.reader(file)\n",
    "        existing_links = [row[0] for row in readData]\n",
    "except FileNotFoundError:\n",
    "    existing_links = []\n",
    "for page in range(endpoint):\n",
    "    body = driver.find_element(By.TAG_NAME, 'body')\n",
    "    time.sleep(1)\n",
    "try:\n",
    "    dateTag = driver.find_elements(By.XPATH, '//div[@data-testid=\"cellInnerDiv\"]//time')\n",
    "    dates = [d.get_attribute('datetime') for d in dateTag]\n",
    "    # print(dates)\n",
    "    postTag = driver.find_elements(By.XPATH, '//div[@data-testid=\"cellInnerDiv\"]//div[@data-testid=\"User-Name\"]//time/parent::a')\n",
    "    posts = [p.get_attribute('href').strip() for p in postTag]\n",
    "    new_data = []\n",
    "    for post, date in zip(posts, dates):\n",
    "        if post not in existing_links:\n",
    "            new_data.append([ date])\n",
    "\n",
    "    if new_data:\n",
    "        with open(file='#Stable Coin Market.csv', mode='a', newline='', encoding='UTF-8') as file:\n",
    "            writer = csv.writer(file)\n",
    "            writer.writerows(new_data)\n",
    "            print('[Info] Getting Post Data:', new_data)\n",
    "except Exception as e:\n",
    "    print(f'An error occurred: {str(e)}')"
   ]
  }
 ],
 "metadata": {
  "kernelspec": {
   "display_name": "Python 3",
   "language": "python",
   "name": "python3"
  },
  "language_info": {
   "codemirror_mode": {
    "name": "ipython",
    "version": 3
   },
   "file_extension": ".py",
   "mimetype": "text/x-python",
   "name": "python",
   "nbconvert_exporter": "python",
   "pygments_lexer": "ipython3",
   "version": "3.11.5"
  },
  "orig_nbformat": 4
 },
 "nbformat": 4,
 "nbformat_minor": 2
}
